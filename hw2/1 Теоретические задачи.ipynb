{
 "cells": [
  {
   "cell_type": "markdown",
   "metadata": {},
   "source": [
    "# 1.1 Ответы в листях регрессионного дерева\n",
    "Запишем математическое ожидание квадрата ошибки в случае, если в качестве ответа выдаётся среднее значение таргета в узле. Предполагаем, что значения таргета разных объектов независимы и одинаково распределены. Обозначим $y_i,\\ i = \\overline{1,n}$ значения таргета на обучающей выборке, $y$ - таргет неизвестного элемента. По условию наш ответ $\\hat{y}=\\frac{1}{n} \\sum_{i=0}^n y_i$. Тогда получим выражение для ошибки:\n",
    "\n",
    "$E (y-\\hat{y})^2 = E(y - \\frac{1}{n} \\sum_{i=0}^n y_i)^2 = Ey^2 + E(\\frac{1}{n} \\sum_{i=0}^n y_i)^2 - 2E(y \\cdot \\frac{1}{n} \\sum_{i=0}^n y_i) =$\n",
    "\n",
    "$\\text{(в силу независимости } y, y_i )= Ey^2 + \\frac{1}{n^2} E(\\sum_{i=0}^n y_i)^2 - \\frac{2}{n} Ey \\cdot  \\sum_{i=0}^n E y_i =$\n",
    "\n",
    "$\\text{(в силу одинакового распределения)}= Ey^2 + \\frac{1}{n^2} E(\\sum_{i=0}^n y_i)^2 - \\frac{2n}{n} (Ey)^2 =$\n",
    "\n",
    "$= Ey^2 + \\frac{1}{n^2}\\sum_{i=0}^nEy_i^2 + \\frac{1}{n^2}\\sum_{i \\ne j} E(y_i y_j) - 2(Ey)^2 = Ey^2 + \\frac{1}{n^2}\\sum_{i=0}^nEy_i^2 + \\frac{n(n-1)}{n^2} (Ey_i)^2 - 2(Ey)^2 =  Ey^2 + \\frac{1}{n} Ey^2 + \\frac{n-1}{n} (Ey)^2 - 2(Ey)^2 = (1 + \\frac{1}{n}) (Ey^2 - (Ey)^2) = (1+\\frac{1}{n}) Dy$\n",
    "\n",
    "Теперь аналогично запишем матожидание для второй стратегии.\n",
    "\n",
    "$E(y-y_i)^2 = Ey^2-2EyEy_i+Ey_i^2 = Ey^2 - 2EyEy + Ey^2 = 2(Ey^2 - (Ey)^2) = 2 D y$\n",
    "\n",
    "Легко видеть, что обе ошибки пропорциональны дисперсии, но при выборе среднего значения таргета (первая стратегия) коэффициент при дисперсии, а значит и сама ошибка, меньше."
   ]
  },
  {
   "cell_type": "markdown",
   "metadata": {},
   "source": [
    "# 1.2 Линейные модели в деревьях"
   ]
  },
  {
   "cell_type": "markdown",
   "metadata": {},
   "source": [
    "# 1.3 Unsupervised decision tree\n",
    "\n",
    "Дана формула для энтропии\n",
    "$H(S)= \\frac{1}{2} \\ln{(2\\pi e)^n |\\Sigma|})$\n",
    "\n",
    "Посчитаем энтропию многомерного гауссовского распределения с параметрами $(\\vec{a}, \\Sigma)$ и покажем, что она равна данному выражению. \n",
    "\n",
    "Для многомерного нормального распределения $p(x)={(2\\pi)^{n/2}\\sqrt{|\\Sigma|}}\\cdot  exp(\\frac{1}{2}(\\vec{x} - \\vec{a})^T\\Sigma^{-1}(\\vec{x} - \\vec{a}))$\n",
    "\n",
    "По определению энтропии запишем:\n",
    "$H = -\\int \\dots \\int_{x \\in R^{n}} p(x)\\ln{p(x)}dx = -\\int \\dots \\int_{x \\in R^{n}} p(x)(\\ln({(2\\pi)^{n/2}\\sqrt{|\\Sigma|}}) + \\frac{1}{2}(\\vec{x} - \\vec{a})^T\\Sigma^{-1}(\\vec{x} - \\vec{a}))dx = $\n",
    "$=\\frac{1}{2}\\ln({(2\\pi)^{n}|\\Sigma|}) + \\frac{1}{2}\\sum_{i,j = \\overline{1, n}}\\Sigma^{-1}E(x_i - \\mu_i)(x_j - \\mu_j)  = \\frac{1}{2}\\ln({(2\\pi)^{n}|\\Sigma|}) + \\frac{1}{2}\\sum_{i,j = \\overline{1, n}}\\Sigma^{-1}\\Sigma = \\frac{1}{2}\\ln({(2\\pi)^{n}|\\Sigma|}) + \\frac{n}{2} = \\frac{1}{2}\\ln({(2\\pi e)^{n}|\\Sigma|})$\n",
    "\n",
    "Мы получили требуемое выражение."
   ]
  },
  {
   "cell_type": "code",
   "execution_count": null,
   "metadata": {
    "collapsed": true
   },
   "outputs": [],
   "source": []
  }
 ],
 "metadata": {
  "kernelspec": {
   "display_name": "Python 3",
   "language": "python",
   "name": "python3"
  },
  "language_info": {
   "codemirror_mode": {
    "name": "ipython",
    "version": 3
   },
   "file_extension": ".py",
   "mimetype": "text/x-python",
   "name": "python",
   "nbconvert_exporter": "python",
   "pygments_lexer": "ipython3",
   "version": "3.5.3"
  }
 },
 "nbformat": 4,
 "nbformat_minor": 0
}
