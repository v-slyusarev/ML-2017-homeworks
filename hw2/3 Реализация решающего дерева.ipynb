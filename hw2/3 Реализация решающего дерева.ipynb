{
 "cells": [
  {
   "cell_type": "code",
   "execution_count": 1,
   "metadata": {
    "collapsed": true
   },
   "outputs": [],
   "source": [
    "from sklearn import tree, model_selection, metrics, datasets\n",
    "from pandas import DataFrame\n",
    "from sklearn.model_selection import GridSearchCV\n",
    "from scipy.stats.mstats import mquantiles\n",
    "import numpy as np"
   ]
  },
  {
   "cell_type": "markdown",
   "metadata": {},
   "source": [
    "Загрузим и изучим датасет boston"
   ]
  },
  {
   "cell_type": "code",
   "execution_count": 2,
   "metadata": {
    "collapsed": false
   },
   "outputs": [
    {
     "name": "stdout",
     "output_type": "stream",
     "text": [
      "Boston House Prices dataset\n",
      "===========================\n",
      "\n",
      "Notes\n",
      "------\n",
      "Data Set Characteristics:  \n",
      "\n",
      "    :Number of Instances: 506 \n",
      "\n",
      "    :Number of Attributes: 13 numeric/categorical predictive\n",
      "    \n",
      "    :Median Value (attribute 14) is usually the target\n",
      "\n",
      "    :Attribute Information (in order):\n",
      "        - CRIM     per capita crime rate by town\n",
      "        - ZN       proportion of residential land zoned for lots over 25,000 sq.ft.\n",
      "        - INDUS    proportion of non-retail business acres per town\n",
      "        - CHAS     Charles River dummy variable (= 1 if tract bounds river; 0 otherwise)\n",
      "        - NOX      nitric oxides concentration (parts per 10 million)\n",
      "        - RM       average number of rooms per dwelling\n",
      "        - AGE      proportion of owner-occupied units built prior to 1940\n",
      "        - DIS      weighted distances to five Boston employment centres\n",
      "        - RAD      index of accessibility to radial highways\n",
      "        - TAX      full-value property-tax rate per $10,000\n",
      "        - PTRATIO  pupil-teacher ratio by town\n",
      "        - B        1000(Bk - 0.63)^2 where Bk is the proportion of blacks by town\n",
      "        - LSTAT    % lower status of the population\n",
      "        - MEDV     Median value of owner-occupied homes in $1000's\n",
      "\n",
      "    :Missing Attribute Values: None\n",
      "\n",
      "    :Creator: Harrison, D. and Rubinfeld, D.L.\n",
      "\n",
      "This is a copy of UCI ML housing dataset.\n",
      "http://archive.ics.uci.edu/ml/datasets/Housing\n",
      "\n",
      "\n",
      "This dataset was taken from the StatLib library which is maintained at Carnegie Mellon University.\n",
      "\n",
      "The Boston house-price data of Harrison, D. and Rubinfeld, D.L. 'Hedonic\n",
      "prices and the demand for clean air', J. Environ. Economics & Management,\n",
      "vol.5, 81-102, 1978.   Used in Belsley, Kuh & Welsch, 'Regression diagnostics\n",
      "...', Wiley, 1980.   N.B. Various transformations are used in the table on\n",
      "pages 244-261 of the latter.\n",
      "\n",
      "The Boston house-price data has been used in many machine learning papers that address regression\n",
      "problems.   \n",
      "     \n",
      "**References**\n",
      "\n",
      "   - Belsley, Kuh & Welsch, 'Regression diagnostics: Identifying Influential Data and Sources of Collinearity', Wiley, 1980. 244-261.\n",
      "   - Quinlan,R. (1993). Combining Instance-Based and Model-Based Learning. In Proceedings on the Tenth International Conference of Machine Learning, 236-243, University of Massachusetts, Amherst. Morgan Kaufmann.\n",
      "   - many more! (see http://archive.ics.uci.edu/ml/datasets/Housing)\n",
      "\n"
     ]
    }
   ],
   "source": [
    "boston = datasets.load_boston()\n",
    "print(boston.DESCR)\n",
    "feature = boston['data']\n",
    "target = boston['target']\n",
    "feature_names = boston['feature_names']"
   ]
  },
  {
   "cell_type": "code",
   "execution_count": 3,
   "metadata": {
    "collapsed": false
   },
   "outputs": [
    {
     "data": {
      "text/html": [
       "<div>\n",
       "<table border=\"1\" class=\"dataframe\">\n",
       "  <thead>\n",
       "    <tr style=\"text-align: right;\">\n",
       "      <th></th>\n",
       "      <th>CRIM</th>\n",
       "      <th>ZN</th>\n",
       "      <th>INDUS</th>\n",
       "      <th>CHAS</th>\n",
       "      <th>NOX</th>\n",
       "      <th>RM</th>\n",
       "      <th>AGE</th>\n",
       "      <th>DIS</th>\n",
       "      <th>RAD</th>\n",
       "      <th>TAX</th>\n",
       "      <th>PTRATIO</th>\n",
       "      <th>B</th>\n",
       "      <th>LSTAT</th>\n",
       "      <th>TARGET</th>\n",
       "    </tr>\n",
       "  </thead>\n",
       "  <tbody>\n",
       "    <tr>\n",
       "      <th>0</th>\n",
       "      <td>0.00632</td>\n",
       "      <td>18.0</td>\n",
       "      <td>2.31</td>\n",
       "      <td>0.0</td>\n",
       "      <td>0.538</td>\n",
       "      <td>6.575</td>\n",
       "      <td>65.2</td>\n",
       "      <td>4.0900</td>\n",
       "      <td>1.0</td>\n",
       "      <td>296.0</td>\n",
       "      <td>15.3</td>\n",
       "      <td>396.90</td>\n",
       "      <td>4.98</td>\n",
       "      <td>24.0</td>\n",
       "    </tr>\n",
       "    <tr>\n",
       "      <th>1</th>\n",
       "      <td>0.02731</td>\n",
       "      <td>0.0</td>\n",
       "      <td>7.07</td>\n",
       "      <td>0.0</td>\n",
       "      <td>0.469</td>\n",
       "      <td>6.421</td>\n",
       "      <td>78.9</td>\n",
       "      <td>4.9671</td>\n",
       "      <td>2.0</td>\n",
       "      <td>242.0</td>\n",
       "      <td>17.8</td>\n",
       "      <td>396.90</td>\n",
       "      <td>9.14</td>\n",
       "      <td>21.6</td>\n",
       "    </tr>\n",
       "    <tr>\n",
       "      <th>2</th>\n",
       "      <td>0.02729</td>\n",
       "      <td>0.0</td>\n",
       "      <td>7.07</td>\n",
       "      <td>0.0</td>\n",
       "      <td>0.469</td>\n",
       "      <td>7.185</td>\n",
       "      <td>61.1</td>\n",
       "      <td>4.9671</td>\n",
       "      <td>2.0</td>\n",
       "      <td>242.0</td>\n",
       "      <td>17.8</td>\n",
       "      <td>392.83</td>\n",
       "      <td>4.03</td>\n",
       "      <td>34.7</td>\n",
       "    </tr>\n",
       "    <tr>\n",
       "      <th>3</th>\n",
       "      <td>0.03237</td>\n",
       "      <td>0.0</td>\n",
       "      <td>2.18</td>\n",
       "      <td>0.0</td>\n",
       "      <td>0.458</td>\n",
       "      <td>6.998</td>\n",
       "      <td>45.8</td>\n",
       "      <td>6.0622</td>\n",
       "      <td>3.0</td>\n",
       "      <td>222.0</td>\n",
       "      <td>18.7</td>\n",
       "      <td>394.63</td>\n",
       "      <td>2.94</td>\n",
       "      <td>33.4</td>\n",
       "    </tr>\n",
       "    <tr>\n",
       "      <th>4</th>\n",
       "      <td>0.06905</td>\n",
       "      <td>0.0</td>\n",
       "      <td>2.18</td>\n",
       "      <td>0.0</td>\n",
       "      <td>0.458</td>\n",
       "      <td>7.147</td>\n",
       "      <td>54.2</td>\n",
       "      <td>6.0622</td>\n",
       "      <td>3.0</td>\n",
       "      <td>222.0</td>\n",
       "      <td>18.7</td>\n",
       "      <td>396.90</td>\n",
       "      <td>5.33</td>\n",
       "      <td>36.2</td>\n",
       "    </tr>\n",
       "  </tbody>\n",
       "</table>\n",
       "</div>"
      ],
      "text/plain": [
       "      CRIM    ZN  INDUS  CHAS    NOX     RM   AGE     DIS  RAD    TAX  \\\n",
       "0  0.00632  18.0   2.31   0.0  0.538  6.575  65.2  4.0900  1.0  296.0   \n",
       "1  0.02731   0.0   7.07   0.0  0.469  6.421  78.9  4.9671  2.0  242.0   \n",
       "2  0.02729   0.0   7.07   0.0  0.469  7.185  61.1  4.9671  2.0  242.0   \n",
       "3  0.03237   0.0   2.18   0.0  0.458  6.998  45.8  6.0622  3.0  222.0   \n",
       "4  0.06905   0.0   2.18   0.0  0.458  7.147  54.2  6.0622  3.0  222.0   \n",
       "\n",
       "   PTRATIO       B  LSTAT  TARGET  \n",
       "0     15.3  396.90   4.98    24.0  \n",
       "1     17.8  396.90   9.14    21.6  \n",
       "2     17.8  392.83   4.03    34.7  \n",
       "3     18.7  394.63   2.94    33.4  \n",
       "4     18.7  396.90   5.33    36.2  "
      ]
     },
     "execution_count": 3,
     "metadata": {},
     "output_type": "execute_result"
    }
   ],
   "source": [
    "frame = DataFrame(feature)\n",
    "frame.columns = feature_names\n",
    "frame['TARGET'] = target\n",
    "frame.head()"
   ]
  },
  {
   "cell_type": "markdown",
   "metadata": {},
   "source": [
    "Реализуем решающее дерево"
   ]
  },
  {
   "cell_type": "code",
   "execution_count": 4,
   "metadata": {
    "collapsed": false
   },
   "outputs": [],
   "source": [
    "class decision_tree:     \n",
    "    def __init__(self, max_depth, parent_level = 0):\n",
    "        self.answer = 0\n",
    "        self.condition = lambda x: True\n",
    "        self.max_depth = max_depth\n",
    "        self.level = parent_level + 1\n",
    "        self.true_child = None\n",
    "        self.false_child = None\n",
    "        \n",
    "    def __feature_target_division__(self, feature, target, predicate):\n",
    "        return ([x for x in feature if (predicate(x)==True)],\n",
    "                [target[i] for i in xrange(len(feature)) if (predicate(feature[i])==True)],\n",
    "                [x for x in feature if (predicate(x)==False)],\n",
    "                [target[i] for i in xrange(len(feature)) if (predicate(feature[i])==False)])\n",
    "            \n",
    "    def __score__(self, feature, target, feature_no, threshold):\n",
    "        total_len = float(len(feature))\n",
    "        (feature_less, target_less, feature_more,\n",
    "         target_more) = self.__feature_target_division__(\n",
    "            feature, target,lambda x: x[feature_no] <= threshold\n",
    "        )\n",
    "        \n",
    "        less_len = float(len(target_less))\n",
    "        more_len = float(len(target_more))\n",
    "        \n",
    "        return (less_len*np.var(target_less) + more_len*np.var(target_more))/total_len\n",
    "    \n",
    "    def __matrix_argmin__(self, a):\n",
    "#        print(a)\n",
    "        x, y = np.shape(a)\n",
    "        r = np.argmin(a)\n",
    "#        print(r//y, r % y)\n",
    "        return r // y, r % y\n",
    "        \n",
    "    def __find_best_subdivision__(self, feature, target):\n",
    "        feature_values = np.array(feature).T\n",
    "        threshold_values = [np.linspace(np.min(value_list), np.max(value_list),10)[1:-1]\n",
    "                                       for value_list in feature_values] \n",
    "        scores = [[self.__score__(feature, target, feature_no, threshold)\n",
    "                   for threshold in threshold_values[feature_no]]\n",
    "                  for feature_no in xrange(len(feature_values))] \n",
    "        \n",
    "        feature_no, threshold_index = self.__matrix_argmin__(scores)\n",
    "        \n",
    "        return feature_no, threshold_values[feature_no][threshold_index]\n",
    "    \n",
    "    def fit(self, feature, target):\n",
    "#        print(np.shape(feature), np.shape(target))    \n",
    "        \n",
    "        if(len(target) > 0):\n",
    "            self.answer = np.mean(target)\n",
    "        else:\n",
    "            self.answer = None\n",
    "        \n",
    "        if(self.level <= self.max_depth and len(target) > 0 and len(feature) > 0):\n",
    "            if type(feature)==np.ndarray:\n",
    "                feature = feature.tolist()\n",
    "            \n",
    "            feature_no, threshold = self.__find_best_subdivision__(feature, target)\n",
    "            self.condition = lambda x: x[feature_no] <= threshold\n",
    "            \n",
    "            (true_child_feature, true_child_target, false_child_feature,\n",
    "             false_child_target) = self.__feature_target_division__(feature, target,\n",
    "                                                                    self.condition)\n",
    "            \n",
    "            for item in feature:\n",
    "                del item[feature_no]\n",
    "            \n",
    "            if(len(true_child_target) > 0):            \n",
    "                self.true_child = decision_tree(self.max_depth, parent_level=self.level)\n",
    "                self.true_child.fit(true_child_feature, true_child_target)\n",
    "                \n",
    "            if(len(false_child_target) > 0):\n",
    "                self.false_child = decision_tree(self.max_depth, parent_level=self.level)\n",
    "                self.false_child.fit(false_child_feature, false_child_target)\n",
    "            \n",
    "    \n",
    "    def __answer__(self, item):\n",
    "        if self.condition(item) == True and self.true_child is not None:\n",
    "            return self.true_child.__answer__(item)\n",
    "        elif self.condition(item) == False and self.false_child is not None:\n",
    "            return self.false_child.__answer__(item)\n",
    "        else:\n",
    "            return self.answer\n",
    "    \n",
    "    def predict(self, feature):\n",
    "        return [self.__answer__(x) for x in feature]"
   ]
  },
  {
   "cell_type": "markdown",
   "metadata": {},
   "source": [
    "Применим решающее дерево к выборке, разделив её на обучающую и тестовую подвыборки. Посмотрим на результаты. MSE должно быть значительно меньше стандартного отклонения в target тестовой подвыборки (иначе можно было бы получить настолько же качественный ответ, выдавая его случайно)"
   ]
  },
  {
   "cell_type": "code",
   "execution_count": 5,
   "metadata": {
    "collapsed": false
   },
   "outputs": [],
   "source": [
    "feature_train, feature_test, target_train, target_test = model_selection.train_test_split(\n",
    "    feature, target, test_size=0.25)"
   ]
  },
  {
   "cell_type": "code",
   "execution_count": 6,
   "metadata": {
    "collapsed": false,
    "scrolled": true
   },
   "outputs": [],
   "source": [
    "max_depth = 2\n",
    "model = decision_tree(max_depth = max_depth)\n",
    "model.fit(feature_train, target_train)"
   ]
  },
  {
   "cell_type": "code",
   "execution_count": 7,
   "metadata": {
    "collapsed": false
   },
   "outputs": [
    {
     "name": "stdout",
     "output_type": "stream",
     "text": [
      "MSE: 28.8348839635\n",
      "Стандартное отклонение: 73.8739314279\n"
     ]
    }
   ],
   "source": [
    "result = model.predict(feature_test)\n",
    "print('MSE: {}'.format(metrics.mean_squared_error(target_test, result)))\n",
    "print('Стандартное отклонение: {}'.format(np.var(target_test)))"
   ]
  },
  {
   "cell_type": "markdown",
   "metadata": {},
   "source": [
    "Сравним с реализацией дерева из sklearn"
   ]
  },
  {
   "cell_type": "code",
   "execution_count": 8,
   "metadata": {
    "collapsed": false
   },
   "outputs": [
    {
     "name": "stdout",
     "output_type": "stream",
     "text": [
      "27.7938550592\n"
     ]
    }
   ],
   "source": [
    "another_model = tree.DecisionTreeRegressor(max_depth=max_depth)\n",
    "another_model.fit(feature_train, target_train)\n",
    "print(metrics.mean_squared_error(target_test, another_model.predict(feature_test)))"
   ]
  },
  {
   "cell_type": "markdown",
   "metadata": {},
   "source": [
    "Построенное нами дерево немного уступает реализации из sklearn, но в целом выдаёт сопоставимое качество. Не знаю как вы, а я считаю, что это успех."
   ]
  },
  {
   "cell_type": "code",
   "execution_count": null,
   "metadata": {
    "collapsed": true
   },
   "outputs": [],
   "source": []
  }
 ],
 "metadata": {
  "kernelspec": {
   "display_name": "Python 2",
   "language": "python",
   "name": "python2"
  },
  "language_info": {
   "codemirror_mode": {
    "name": "ipython",
    "version": 2
   },
   "file_extension": ".py",
   "mimetype": "text/x-python",
   "name": "python",
   "nbconvert_exporter": "python",
   "pygments_lexer": "ipython2",
   "version": "2.7.13"
  }
 },
 "nbformat": 4,
 "nbformat_minor": 2
}
